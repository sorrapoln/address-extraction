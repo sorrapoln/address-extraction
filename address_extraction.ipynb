{
 "cells": [
  {
   "cell_type": "code",
   "execution_count": 1,
   "id": "ac221575",
   "metadata": {
    "ExecuteTime": {
     "end_time": "2022-02-02T16:55:00.798761Z",
     "start_time": "2022-02-02T16:55:00.188729Z"
    }
   },
   "outputs": [],
   "source": [
    "import pandas as pd\n",
    "import re"
   ]
  },
  {
   "cell_type": "code",
   "execution_count": 2,
   "id": "1d68b940",
   "metadata": {
    "ExecuteTime": {
     "end_time": "2022-02-02T16:55:00.923038Z",
     "start_time": "2022-02-02T16:55:00.831785Z"
    }
   },
   "outputs": [],
   "source": [
    "df = pd.read_csv('mock_name_address.csv')"
   ]
  },
  {
   "cell_type": "markdown",
   "id": "b25c0bc9",
   "metadata": {},
   "source": [
    "# Clean text + Extract some information"
   ]
  },
  {
   "cell_type": "markdown",
   "id": "0c3f620f",
   "metadata": {},
   "source": [
    "This section aims to clean dirty texts and extract elements including \n",
    "- Zip Code\n",
    "- House Number\n",
    "- Moo (Village number)\n",
    "- list_other : a list that includes district, province, subdistrict and others but not yet extracted"
   ]
  },
  {
   "cell_type": "code",
   "execution_count": 23,
   "id": "fb1e193d",
   "metadata": {
    "ExecuteTime": {
     "end_time": "2022-02-02T17:02:21.197339Z",
     "start_time": "2022-02-02T17:02:21.183960Z"
    }
   },
   "outputs": [],
   "source": [
    "def load_thai_address():\n",
    "    \n",
    "    df = pd.read_csv('mock_name_address.csv')\n",
    "    \n",
    "    return df\n",
    "\n",
    "def clean_text(text):\n",
    "    \n",
    "    # Clean text using regular expression\n",
    "    \n",
    "    pattern_soi = 'ซ\\.|ซอย'\n",
    "    pattern_thanon = 'ถ\\.|ถนน'\n",
    "    pattern_tambon = 'ต\\.|ตำบล|แขวง'\n",
    "    pattern_amphoe = 'อ\\.|อำเภอ|เขต'\n",
    "    pattern_changwat = 'จ\\.|จังหวัด'\n",
    "    pattern_bkk = 'กทม |กทม\\. |กรุงเทพ |กรุงเทพฯ |กรุงเทพมหานครฯ '\n",
    "    \n",
    "    text = re.sub(pattern_soi, '', text)\n",
    "    text = re.sub(pattern_thanon, '', text)\n",
    "    text = re.sub(pattern_tambon, '', text)\n",
    "    text = re.sub(pattern_amphoe, '', text)\n",
    "    text = re.sub(pattern_changwat, '', text)\n",
    "    text = re.sub(pattern_bkk, 'กรุงเทพมหานคร ', text)\n",
    "    \n",
    "    return text\n",
    "\n",
    "def find_dict_pattern(text):\n",
    "    \n",
    "    # Clean moo and keep it\n",
    "    \n",
    "    pattern_moo = '(หมู่ \\d+ |ม\\. \\d+)'\n",
    "    moo = None\n",
    "    if re.findall(pattern_moo, text):\n",
    "        moo = re.findall(pattern_moo, text)[0].strip().split()\n",
    "        moo = 'หมู่' + moo[1]\n",
    "        text = re.sub(pattern_moo,  '', text)\n",
    "        \n",
    "    \n",
    "    # clean house number and keep it\n",
    "    \n",
    "    pattern_house_number = '(\\d+\\/\\d+ |\\d{1,3} )'\n",
    "    house_number = re.findall(pattern_house_number, text)[0][:-1]\n",
    "    text = re.sub(pattern_house_number, '', text)\n",
    "    \n",
    "    # clean zipcode and keep it\n",
    "    \n",
    "    zip_code = None\n",
    "    pattern_zip_code = '\\d{5}'\n",
    "    \n",
    "    if re.findall(pattern_zip_code, text):\n",
    "        zip_code = re.findall(pattern_zip_code, text)[0]\n",
    "    \n",
    "    # save everything into a dict\n",
    "    \n",
    "    dict_all = {}\n",
    "    \n",
    "    dict_all['Zip Code'] = zip_code\n",
    "    dict_all['Moo'] = moo\n",
    "    dict_all['House Number'] = house_number\n",
    "    \n",
    "    text = re.sub('.+หมู่\\d+ ', '', text)\n",
    "    text = re.sub(' \\d{5}', '', text)\n",
    "    dict_all['list_other'] = text.split()\n",
    "    \n",
    "    return dict_all\n",
    "\n",
    "    \n",
    "def run_all(text):\n",
    "    \n",
    "    text = clean_text(text)\n",
    "    info_dict = find_dict_pattern(text)\n",
    "    \n",
    "    return info_dict\n",
    "\n",
    "    "
   ]
  },
  {
   "cell_type": "code",
   "execution_count": 24,
   "id": "75c00496",
   "metadata": {
    "ExecuteTime": {
     "end_time": "2022-02-02T17:02:21.571856Z",
     "start_time": "2022-02-02T17:02:21.562649Z"
    }
   },
   "outputs": [
    {
     "name": "stdout",
     "output_type": "stream",
     "text": [
      "61 ถนนแนวพญา ต.เขาขาว อ.วังยาง จ.หนองคาย\n",
      "{'Zip Code': None, 'Moo': None, 'House Number': '61', 'list_other': ['แนวพญา', 'เขาขาว', 'วังยาง', 'หนองคาย']}\n",
      "-----------\n",
      "\n",
      "854/11 ถนนดีตพันธุ์ ต.โนนแดงเหนือ อ.ศรีสงคราม จ.เพชรบูรณ์ 25000\n",
      "{'Zip Code': '25000', 'Moo': None, 'House Number': '854/11', 'list_other': ['ดีตพันธุ์', 'โนนแดงเหนือ', 'ศรีสงคราม', 'เพชรบูรณ์']}\n",
      "-----------\n",
      "\n",
      "322/0 ถนนนาคะนคร ต.อิตื้อ อ.สามโคก จ.ยโสธร 25630\n",
      "{'Zip Code': '25630', 'Moo': None, 'House Number': '322/0', 'list_other': ['นาคะนคร', 'อิตื้อ', 'สามโคก', 'ยโสธร']}\n",
      "-----------\n",
      "\n",
      "944/57 หมู่บ้านธมลพรรณ โพนสวรรค์ กรุงเทพฯ 57200\n",
      "{'Zip Code': '57200', 'Moo': None, 'House Number': '944/57', 'list_other': ['หมู่บ้านธมลพรรณ', 'โพนสวรรค์', 'กรุงเทพมหานคร']}\n",
      "-----------\n",
      "\n",
      "3 ถ.เขียวอ่อน อ.เฉลิมพระเกียรติ ลพบุรี 19320\n",
      "{'Zip Code': '19320', 'Moo': None, 'House Number': '3', 'list_other': ['เขียวอ่อน', 'เฉลิมพระเกียรติ', 'ลพบุรี']}\n",
      "-----------\n",
      "\n",
      "78 หมู่ 6 ถ.ตั้งเผ่า ตำบลปากคมใต้ อำเภอซับใหญ่ กำแพงเพชร 17150\n",
      "{'Zip Code': '17150', 'Moo': 'หมู่6', 'House Number': '78', 'list_other': ['ตั้งเผ่า', 'ปากคมใต้', 'ซับใหญ่', 'กำแพงเพชร']}\n",
      "-----------\n",
      "\n",
      "01/7 ถ.ทวนไชย์ ตำบลเขากอบ อำเภอคอนสาร ร้อยเอ็ด 64760\n",
      "{'Zip Code': '64760', 'Moo': None, 'House Number': '01/7', 'list_other': ['ทวนไชย์', 'เขากอบ', 'คอนสาร', 'ร้อยเอ็ด']}\n",
      "-----------\n",
      "\n",
      "575 ถนนจันทา ปากคม ซับใหญ่ ตรัง 15690\n",
      "{'Zip Code': '15690', 'Moo': None, 'House Number': '575', 'list_other': ['จันทา', 'ปากคม', 'ซับใหญ่', 'ตรัง']}\n",
      "-----------\n",
      "\n",
      "8/2 ถนนถนัดรบ อำเภอภูเขียว สุราษฎร์ธานี 71410\n",
      "{'Zip Code': '71410', 'Moo': None, 'House Number': '8/2', 'list_other': ['ถนัดรบ', 'ภูเขียว', 'สุราษฎร์ธานี']}\n",
      "-----------\n",
      "\n",
      "2 ถ.นาถะเดชะ อำเภอภักดีชุมพล จังหวัดนนทบุรี 42230\n",
      "{'Zip Code': '42230', 'Moo': None, 'House Number': '2', 'list_other': ['นาถะเดชะ', 'ภักดีชุมพล', 'นนทบุรี']}\n",
      "-----------\n",
      "\n"
     ]
    }
   ],
   "source": [
    "for i in df['Address'].head(10).tolist():\n",
    "    \n",
    "    print(i)\n",
    "    print(run_all(i))\n",
    "    print('-----------')\n",
    "    print('')"
   ]
  },
  {
   "cell_type": "markdown",
   "id": "d12a654c",
   "metadata": {},
   "source": [
    "# Autocorrection and search for true elements (Tambon, Amphoe, Chanwat)"
   ]
  },
  {
   "cell_type": "markdown",
   "id": "5218a4c8",
   "metadata": {},
   "source": [
    "- This section aims to extract elements from list_other from the last section. First, we need to figure out what province in the list_other is then find district and subdistrict consequently. \n",
    "\n",
    "How about a **MISSPELLED** word? Do we need to cure the problem? \n",
    "\n",
    "- The answer is **YES**. As we discussed that we will follow from province **>>** district **>>** subdistrict level-by-level. Using Levenshtein distance to compare a token in list_other and data from governance is very essential. \n",
    "- First, We calculated the distance of each token and every province we have then we acquired a province name which has the lowest distance in list_other. \n",
    "- Then, we popped the last token out and calculated as the same to extract district and subdistrict. \n",
    "\n",
    "****Example****\n",
    "\n",
    "*list_other* = ['ทุ่งควายกิน', 'แกลข', 'ระยอง', 'อาคารสรพล']\n",
    "\n",
    "1. Calculate every token's distance with every province name --> We acquie 'ระยอง' as a province because of zero distance.\n",
    "2. Calculate the remaining token's distance with every district name --> We acquire 'แกลง' as a district because distance = 2 (แกลข >> แกลง Rep cost = 2)\n",
    "3. Calculate the remaining token's distance with every district name --> We acquire 'ทุ่งควายกิน' as a subdistrict because of zero distance.\n",
    "4. The remaining tokens (['อาคารสรพล'] will be left as the other information (such as buiding name etc.).\n",
    "5. The result is\n",
    "    \n",
    "    {\n",
    "        'Sub District' : 'ทุ่งควายกิน',\n",
    "        'District' : 'แกลง',\n",
    "        'Province' : 'ระยอง',\n",
    "        'Other' : 'อาคารสรพล',\n",
    "    }\n",
    "    \n",
    "    \n",
    "6. The result will be merged with the result from last section (Zipcode, Moo and House Number)\n",
    "    "
   ]
  },
  {
   "cell_type": "code",
   "execution_count": 25,
   "id": "9a51ff19",
   "metadata": {
    "ExecuteTime": {
     "end_time": "2022-02-02T17:02:22.777372Z",
     "start_time": "2022-02-02T17:02:22.763304Z"
    }
   },
   "outputs": [],
   "source": [
    "def levenshtein(text1, text2):\n",
    "    \n",
    "    # Calculate Levenshtein distance between text1 and text2\n",
    "    \n",
    "    len1 = len(text1)\n",
    "    len2 = len(text2)\n",
    "    \n",
    "    matrix = np.zeros((len1 + 1, len2 +1))\n",
    "    \n",
    "    first_horizontal = [i for i in range(len2+1)]\n",
    "    first_vertical = [i for i in range(len1+1)]\n",
    "    \n",
    "    matrix[0, :] = first_horizontal\n",
    "    matrix[:, 0] = first_vertical\n",
    "\n",
    "    del_cost = 1\n",
    "    ins_cost = 1\n",
    "    rep_cost = 2\n",
    "    \n",
    "    for i in range(1, len1 + 1):\n",
    "        for j in range(1, len2 + 1):\n",
    "            \n",
    "            cost_1 = matrix[i-1, j] + del_cost\n",
    "            cost_2 = matrix[i, j-1] + ins_cost\n",
    "            cost_3 = matrix[i-1, j-1]\n",
    "            if text1[i-1] != text2[j-1]: \n",
    "                cost_3 = matrix[i-1, j-1] + rep_cost\n",
    "        \n",
    "            matrix[i, j] = min(cost_1, cost_2, cost_3)\n",
    "    \n",
    "    min_edit_distance = matrix[len1, len2]\n",
    "\n",
    "    return min_edit_distance"
   ]
  },
  {
   "cell_type": "code",
   "execution_count": 33,
   "id": "78f97a45",
   "metadata": {
    "ExecuteTime": {
     "end_time": "2022-02-02T17:22:05.252846Z",
     "start_time": "2022-02-02T17:22:05.234787Z"
    }
   },
   "outputs": [],
   "source": [
    "def load_tambon_data(file_name):\n",
    "    \n",
    "    tambon_df = pd.read_excel(file_name)\n",
    "    tambon_df['CHANGWAT_T'] = tambon_df['CHANGWAT_T'].replace({'จ\\. ' : ''}, regex = True)\n",
    "    tambon_df['AMPHOE_T'] = tambon_df['AMPHOE_T'].replace({'อ\\. ' : ''}, regex = True)\n",
    "    tambon_df['TAMBON_T'] = tambon_df['TAMBON_T'].replace({'ต\\. ' : ''}, regex = True)\n",
    "    \n",
    "    return tambon_df\n",
    "    \n",
    "\n",
    "def extract_changwat(list_other, changwats):\n",
    "    \n",
    "    min_ = float('inf')\n",
    "    result_ch = ''\n",
    "    index_to_pop = 0\n",
    "    \n",
    "    for i in range(len(list_other)):\n",
    "\n",
    "        for ch in changwats:\n",
    "            \n",
    "            text = list_other[i]\n",
    "            min_edit_distance = levenshtein(text, ch)\n",
    "            \n",
    "            if min_edit_distance < min_:\n",
    "                min_ = min_edit_distance\n",
    "                index_to_pop = i\n",
    "                result_ch = ch\n",
    "    \n",
    "    del list_other[index_to_pop]\n",
    "\n",
    "    \n",
    "    return list_other, result_ch\n",
    "\n",
    "def extract_amphoe(list_other, amphoes):\n",
    "    \n",
    "    min_ = float('inf')\n",
    "    result_ap = ''\n",
    "    index_to_pop = 0\n",
    "    \n",
    "    for i in range(len(list_other)):\n",
    "\n",
    "        for ap in amphoes:\n",
    "            \n",
    "            text = list_other[i]\n",
    "            min_edit_distance = levenshtein(text, ap)\n",
    "            \n",
    "            if min_edit_distance < min_:\n",
    "                min_ = min_edit_distance\n",
    "                index_to_pop = i\n",
    "                result_ap = ap\n",
    "    \n",
    "    del list_other[index_to_pop]\n",
    "    \n",
    "    \n",
    "    return list_other, result_ap\n",
    "\n",
    "def extract_tambon(list_other, tambons):\n",
    "    \n",
    "    min_ = float('inf')\n",
    "    result_tb = ''\n",
    "    index_to_pop = 0\n",
    "    \n",
    "    for i in range(len(list_other)):\n",
    "\n",
    "        for tb in tambons:\n",
    "            \n",
    "            text = list_other[i]\n",
    "            min_edit_distance = levenshtein(text, tb)\n",
    "            \n",
    "            if min_edit_distance < min_:\n",
    "                min_ = min_edit_distance\n",
    "                index_to_pop = i\n",
    "                result_tb = tb\n",
    "    \n",
    "    \n",
    "    del list_other[index_to_pop]\n",
    "    \n",
    "    \n",
    "    return list_other, result_tb\n",
    "# extract_tambon(ex, tambon_df[(tambon_df['CHANGWAT_T'] == 'จ. ระยอง') &\n",
    "#                              (tambon_df['AMPHOE_T'] == 'อ. แกลง')]['TAMBON_T'].replace({'ต\\. ' : '', 'ระยอง' : ''}, regex = True).unique())        \n",
    "\n",
    "def extract_all_v1(text, tambon_df):\n",
    "    \n",
    "    all_ = run_all(text)\n",
    "    list_other = all_['list_other']\n",
    "    \n",
    "    changwat_list = tambon_df['CHANGWAT_T'].unique()\n",
    "    list_other, changwat = extract_changwat(list_other, changwat_list)\n",
    "    \n",
    "    amphoe_list = tambon_df[tambon_df['CHANGWAT_T'] == changwat]['AMPHOE_T']\n",
    "    list_other, amphoe = extract_amphoe(list_other, amphoe_list)\n",
    "    \n",
    "    tambon_list = tambon_df[(tambon_df['CHANGWAT_T'] == changwat) & (tambon_df['AMPHOE_T'] == amphoe)]['TAMBON_T']\n",
    "    list_other, tambon = extract_tambon(list_other, tambon_list)\n",
    "    \n",
    "    other_component = ' '.join(list_other)\n",
    "    \n",
    "    all_.pop('list_other')\n",
    "    all_['Sub District'] = tambon\n",
    "    all_['District'] = amphoe\n",
    "    all_['Province'] = changwat\n",
    "    all_['Other'] = other_component\n",
    "    \n",
    "    return all_\n"
   ]
  },
  {
   "cell_type": "code",
   "execution_count": 34,
   "id": "d119d1c7",
   "metadata": {
    "ExecuteTime": {
     "end_time": "2022-02-02T17:22:07.523905Z",
     "start_time": "2022-02-02T17:22:05.631368Z"
    }
   },
   "outputs": [
    {
     "name": "stdout",
     "output_type": "stream",
     "text": [
      "61 หมู่ 5 ถ.มิ่งขวัญ ตำบลเว่อเล็ก อำเภอเทพสถิต ปัตตานี 55850\n",
      "----\n",
      "{'Zip Code': '55850', 'Moo': 'หมู่5', 'House Number': '61', 'Sub District': 'ตอหลัง', 'District': 'ยะหริ่ง', 'Province': 'ปัตตานี', 'Other': 'เทพสถิต'}\n",
      "------------------------------\n",
      "90 หมู่ 1 อาคารสรพล หมู่บ้านเขาดิน ตำบลทุ่งควายกิน อำเภอแกลง จังหวัดระยอข\n",
      "----\n",
      "{'Zip Code': None, 'Moo': 'หมู่1', 'House Number': '90', 'Sub District': 'ทุ่งควายกิน', 'District': 'แกลง', 'Province': 'ระยอง', 'Other': 'อาคารสรพล หมู่บ้านเขาดิน'}\n"
     ]
    }
   ],
   "source": [
    "tambon_df = load_tambon_data(r'thai_tambon_data.xlsx')\n",
    "\n",
    "ex1 = '61 หมู่ 5 ถ.มิ่งขวัญ ตำบลเว่อเล็ก อำเภอเทพสถิต ปัตตานี 55850'\n",
    "ex2 = '90 หมู่ 1 อาคารสรพล หมู่บ้านเขาดิน ตำบลทุ่งควายกิน อำเภอแกลง จังหวัดระยอข'\n",
    "\n",
    "print(ex1)\n",
    "print('----')\n",
    "all_1 = extract_all_v1(ex1, tambon_df)\n",
    "print(all_1)\n",
    "print('------------------------------')\n",
    "\n",
    "print(ex2)\n",
    "print('----')\n",
    "all_2 = extract_all_v1(ex2, tambon_df)\n",
    "print(all_2)"
   ]
  },
  {
   "cell_type": "code",
   "execution_count": 28,
   "id": "4835de6e",
   "metadata": {
    "ExecuteTime": {
     "end_time": "2022-02-02T17:02:27.264979Z",
     "start_time": "2022-02-02T17:02:27.254993Z"
    }
   },
   "outputs": [
    {
     "data": {
      "text/plain": [
       "{'Zip Code': '55850',\n",
       " 'Moo': 'หมู่5',\n",
       " 'House Number': '61',\n",
       " 'Sub District': 'ตอหลัง',\n",
       " 'District': 'ยะหริ่ง',\n",
       " 'Province': 'ปัตตานี',\n",
       " 'Other': 'เทพสถิต'}"
      ]
     },
     "execution_count": 28,
     "metadata": {},
     "output_type": "execute_result"
    }
   ],
   "source": [
    "all_1"
   ]
  },
  {
   "cell_type": "code",
   "execution_count": null,
   "id": "ce94663c",
   "metadata": {},
   "outputs": [],
   "source": []
  }
 ],
 "metadata": {
  "kernelspec": {
   "display_name": "Python 3",
   "language": "python",
   "name": "python3"
  },
  "language_info": {
   "codemirror_mode": {
    "name": "ipython",
    "version": 3
   },
   "file_extension": ".py",
   "mimetype": "text/x-python",
   "name": "python",
   "nbconvert_exporter": "python",
   "pygments_lexer": "ipython3",
   "version": "3.8.8"
  },
  "toc": {
   "base_numbering": 1,
   "nav_menu": {},
   "number_sections": true,
   "sideBar": true,
   "skip_h1_title": false,
   "title_cell": "Table of Contents",
   "title_sidebar": "Contents",
   "toc_cell": false,
   "toc_position": {},
   "toc_section_display": true,
   "toc_window_display": false
  },
  "varInspector": {
   "cols": {
    "lenName": 16,
    "lenType": 16,
    "lenVar": 40
   },
   "kernels_config": {
    "python": {
     "delete_cmd_postfix": "",
     "delete_cmd_prefix": "del ",
     "library": "var_list.py",
     "varRefreshCmd": "print(var_dic_list())"
    },
    "r": {
     "delete_cmd_postfix": ") ",
     "delete_cmd_prefix": "rm(",
     "library": "var_list.r",
     "varRefreshCmd": "cat(var_dic_list()) "
    }
   },
   "types_to_exclude": [
    "module",
    "function",
    "builtin_function_or_method",
    "instance",
    "_Feature"
   ],
   "window_display": false
  }
 },
 "nbformat": 4,
 "nbformat_minor": 5
}
